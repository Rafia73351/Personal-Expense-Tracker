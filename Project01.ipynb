{
  "nbformat": 4,
  "nbformat_minor": 0,
  "metadata": {
    "colab": {
      "provenance": []
    },
    "kernelspec": {
      "name": "python3",
      "display_name": "Python 3"
    },
    "language_info": {
      "name": "python"
    }
  },
  "cells": [
    {
      "cell_type": "code",
      "execution_count": 1,
      "metadata": {
        "id": "ahh9I370HHz5"
      },
      "outputs": [],
      "source": [
        "import pandas as pd\n",
        "import matplotlib.pyplot as plt\n",
        "import os\n",
        "import re\n"
      ]
    },
    {
      "cell_type": "code",
      "source": [
        "import csv\n",
        "import os\n",
        "\n",
        "def add_expense_details(filename):\n",
        "    print(\"\\nEnter Expense Details:\")\n",
        "\n",
        "    # Take inputs for each field\n",
        "    date = input(\"Enter date (YYYY-MM-DD): \")\n",
        "    category = input(\"Enter category (e.g., Food, Rent, Entertainment): \")\n",
        "    amount = input(\"Enter amount: \")\n",
        "    description = input(\"Enter description: \")\n",
        "\n",
        "    # Validate numeric input for amount\n",
        "    try:\n",
        "        amount = float(amount)\n",
        "    except ValueError:\n",
        "        print(\"Invalid amount! Please enter a numeric value.\")\n",
        "        return\n",
        "\n",
        "    # Prepare expense entry\n",
        "    expense = [date, category, amount, description]\n",
        "\n",
        "    # Write to file (append mode)\n",
        "    file_exists = os.path.exists(filename)\n",
        "    with open(filename, mode='a', newline='') as file:\n",
        "        writer = csv.writer(file)\n",
        "        if not file_exists:  # Add header if file doesn't exist\n",
        "            writer.writerow([\"Date\", \"Category\", \"Amount\", \"Description\"])\n",
        "        writer.writerow(expense)\n",
        "\n",
        "    print(\"Expense added successfully!\")\n",
        "\n",
        "# Example usage\n",
        "add_expense_details(\"expenses.csv\")\n"
      ],
      "metadata": {
        "colab": {
          "base_uri": "https://localhost:8080/"
        },
        "id": "QdW6N0T9IBcK",
        "outputId": "3b804c70-c86b-4413-9ecf-2af8db607d11"
      },
      "execution_count": 13,
      "outputs": [
        {
          "output_type": "stream",
          "name": "stdout",
          "text": [
            "\n",
            "Enter Expense Details:\n",
            "Enter date (YYYY-MM-DD): 2024-12-03\n",
            "Enter category (e.g., Food, Rent, Entertainment): Food\n",
            "Enter amount: 500\n",
            "Enter description: Dinner at street \n",
            "Expense added successfully!\n"
          ]
        }
      ]
    },
    {
      "cell_type": "code",
      "source": [
        "import pandas as pd\n",
        "\n",
        "def read_expenses(filename):\n",
        "    try:\n",
        "        # Read the CSV file into a Pandas DataFrame\n",
        "        df = pd.read_csv(\"expenses.csv\")\n",
        "\n",
        "        # Display the data\n",
        "        print(\"\\n--- Stored Expenses ---\")\n",
        "        print(df)\n",
        "\n",
        "        # Show basic information about the data (optional)\n",
        "        print(\"\\nSummary Information:\")\n",
        "        print(df.info())\n",
        "\n",
        "    except FileNotFoundError:\n",
        "        print(f\"File '{filename}' not found. Please make sure the file exists.\")\n",
        "    except pd.errors.EmptyDataError:\n",
        "        print(\"The file is empty. No data to display.\")\n",
        "    except Exception as e:\n",
        "        print(f\"An error occurred: {e}\")\n",
        "\n",
        "# Example usage\n",
        "read_expenses(\"expenses.csv\")\n"
      ],
      "metadata": {
        "colab": {
          "base_uri": "https://localhost:8080/"
        },
        "id": "T_9rFVuQKpWw",
        "outputId": "5072d01b-c7b5-46da-f09e-d4ff1ae02f99"
      },
      "execution_count": 15,
      "outputs": [
        {
          "output_type": "stream",
          "name": "stdout",
          "text": [
            "\n",
            "--- Stored Expenses ---\n",
            "         Date Category  Amount                        Description\n",
            "0  2024-12-06     Food   250.0             Dinner at a restaurant\n",
            "1  2024-12-05     Rent  8300.0  Monthly rent given to House owner\n",
            "2  2024-12-03     Food   500.0                  Dinner at street \n",
            "\n",
            "Summary Information:\n",
            "<class 'pandas.core.frame.DataFrame'>\n",
            "RangeIndex: 3 entries, 0 to 2\n",
            "Data columns (total 4 columns):\n",
            " #   Column       Non-Null Count  Dtype  \n",
            "---  ------       --------------  -----  \n",
            " 0   Date         3 non-null      object \n",
            " 1   Category     3 non-null      object \n",
            " 2   Amount       3 non-null      float64\n",
            " 3   Description  3 non-null      object \n",
            "dtypes: float64(1), object(3)\n",
            "memory usage: 224.0+ bytes\n",
            "None\n"
          ]
        }
      ]
    },
    {
      "cell_type": "code",
      "source": [
        "import pandas as pd\n",
        "\n",
        "def calculate_expenses_by_category(filename):\n",
        "    try:\n",
        "        # Read the CSV file into a Pandas DataFrame\n",
        "        df = pd.read_csv(\"expenses.csv\")\n",
        "\n",
        "        # Ensure the Amount column is numeric\n",
        "        df['Amount'] = pd.to_numeric(df['Amount'], errors='coerce')\n",
        "\n",
        "        # Group by 'Category' and calculate total expenses for each\n",
        "        grouped_expenses = df.groupby('Category')['Amount'].sum()\n",
        "\n",
        "        # Display the grouped totals\n",
        "        print(\"\\n--- Total Expenses by Category ---\")\n",
        "        print(grouped_expenses)\n",
        "\n",
        "        return grouped_expenses  # Return grouped data if needed for further analysis\n",
        "\n",
        "    except FileNotFoundError:\n",
        "        print(f\"File '{filename}' not found.\")\n",
        "    except pd.errors.EmptyDataError:\n",
        "        print(\"The file is empty. No data to group.\")\n",
        "    except Exception as e:\n",
        "        print(f\"An error occurred: {e}\")\n",
        "\n",
        "# Example usage\n",
        "calculate_expenses_by_category(\"expenses.csv\")\n"
      ],
      "metadata": {
        "colab": {
          "base_uri": "https://localhost:8080/",
          "height": 282
        },
        "id": "Egw1pgxTLp0f",
        "outputId": "c2a05864-fa14-4516-e5cc-c42ceff3d1fa"
      },
      "execution_count": 16,
      "outputs": [
        {
          "output_type": "stream",
          "name": "stdout",
          "text": [
            "\n",
            "--- Total Expenses by Category ---\n",
            "Category\n",
            "Food     750.0\n",
            "Rent    8300.0\n",
            "Name: Amount, dtype: float64\n"
          ]
        },
        {
          "output_type": "execute_result",
          "data": {
            "text/plain": [
              "Category\n",
              "Food     750.0\n",
              "Rent    8300.0\n",
              "Name: Amount, dtype: float64"
            ],
            "text/html": [
              "<div>\n",
              "<style scoped>\n",
              "    .dataframe tbody tr th:only-of-type {\n",
              "        vertical-align: middle;\n",
              "    }\n",
              "\n",
              "    .dataframe tbody tr th {\n",
              "        vertical-align: top;\n",
              "    }\n",
              "\n",
              "    .dataframe thead th {\n",
              "        text-align: right;\n",
              "    }\n",
              "</style>\n",
              "<table border=\"1\" class=\"dataframe\">\n",
              "  <thead>\n",
              "    <tr style=\"text-align: right;\">\n",
              "      <th></th>\n",
              "      <th>Amount</th>\n",
              "    </tr>\n",
              "    <tr>\n",
              "      <th>Category</th>\n",
              "      <th></th>\n",
              "    </tr>\n",
              "  </thead>\n",
              "  <tbody>\n",
              "    <tr>\n",
              "      <th>Food</th>\n",
              "      <td>750.0</td>\n",
              "    </tr>\n",
              "    <tr>\n",
              "      <th>Rent</th>\n",
              "      <td>8300.0</td>\n",
              "    </tr>\n",
              "  </tbody>\n",
              "</table>\n",
              "</div><br><label><b>dtype:</b> float64</label>"
            ]
          },
          "metadata": {},
          "execution_count": 16
        }
      ]
    },
    {
      "cell_type": "code",
      "source": [
        "import pandas as pd\n",
        "\n",
        "def analyze_expenses(filename):\n",
        "    try:\n",
        "        # Load the CSV file\n",
        "        df = pd.read_csv(\"expenses.csv\")\n",
        "\n",
        "        # Convert the Date column to datetime format\n",
        "        df['Date'] = pd.to_datetime(df['Date'], errors='coerce')\n",
        "        df['Amount'] = pd.to_numeric(df['Amount'], errors='coerce')  # Ensure numeric values for Amount\n",
        "\n",
        "        # Drop rows with invalid or missing values\n",
        "        df = df.dropna(subset=['Date', 'Amount'])\n",
        "\n",
        "        # Extract Month-Year for grouping\n",
        "        df['Month'] = df['Date'].dt.to_period('M')  # Format like \"2024-01\"\n",
        "\n",
        "        # Calculate monthly total expenses\n",
        "        monthly_totals = df.groupby('Month')['Amount'].sum()\n",
        "\n",
        "        # Calculate daily average expenses\n",
        "        df['Day'] = df['Date'].dt.date  # Extract the date (day)\n",
        "        daily_totals = df.groupby('Day')['Amount'].sum()\n",
        "        average_daily_expense = daily_totals.mean()\n",
        "\n",
        "        # Print results\n",
        "        print(\"Monthly Total Expenses:\")\n",
        "        print(monthly_totals)\n",
        "\n",
        "        print(f\"\\nAverage Daily Expense: ${average_daily_expense:.2f}\")\n",
        "\n",
        "    except Exception as e:\n",
        "        print(f\"Error: {e}\")\n",
        "\n",
        "# Example usage\n",
        "analyze_expenses(\"expenses.csv\")\n"
      ],
      "metadata": {
        "colab": {
          "base_uri": "https://localhost:8080/"
        },
        "id": "GZFbptFRMORI",
        "outputId": "06bdea1d-263b-4cb1-92f0-db469e99d177"
      },
      "execution_count": 17,
      "outputs": [
        {
          "output_type": "stream",
          "name": "stdout",
          "text": [
            "Monthly Total Expenses:\n",
            "Month\n",
            "2024-12    9050.0\n",
            "Freq: M, Name: Amount, dtype: float64\n",
            "\n",
            "Average Daily Expense: $3016.67\n"
          ]
        }
      ]
    },
    {
      "cell_type": "code",
      "source": [
        "def show_expense_pie_chart(filename):\n",
        "    # Load the CSV file\n",
        "    df = pd.read_csv(\"expenses.csv\")\n",
        "\n",
        "    # Group by category and calculate the total for each\n",
        "    category_totals = df.groupby('Category')['Amount'].sum()\n",
        "\n",
        "    # Plot the pie chart\n",
        "    category_totals.plot.pie(\n",
        "        autopct='%1.1f%%',  # Show percentages\n",
        "        startangle=90,      # Rotate chart for better display\n",
        "        figsize=(6, 6),     # Set chart size\n",
        "    )\n",
        "\n",
        "    # Add title and display the chart\n",
        "    plt.title(\"Expenses by Category\")\n",
        "    plt.ylabel(\"\")  # Hide y-axis label for cleaner look\n",
        "    plt.show()\n",
        "    show_expense_pie_chart(\"expenses.csv\")"
      ],
      "metadata": {
        "id": "z75OxnnKNv_7"
      },
      "execution_count": 19,
      "outputs": []
    },
    {
      "cell_type": "code",
      "source": [
        "\n",
        "\n",
        "def show_monthly_expenses_bar_chart(filename):\n",
        "    # Load the CSV file\n",
        "    df = pd.read_csv(\"expenses.csv\")\n",
        "\n",
        "    # Convert 'Date' column to datetime format\n",
        "    df['Date'] = pd.to_datetime(df['Date'], errors='coerce')\n",
        "    df['Amount'] = pd.to_numeric(df['Amount'], errors='coerce')  # Ensure Amount is numeric\n",
        "\n",
        "    # Drop rows with missing values in 'Amount' or 'Date'\n",
        "    df = df.dropna(subset=['Date', 'Amount'])\n",
        "\n",
        "    # Extract Month-Year for grouping\n",
        "    df['Month'] = df['Date'].dt.to_period('M')\n",
        "\n",
        "    # Group by Month and sum the expenses\n",
        "    monthly_totals = df.groupby('Month')['Amount'].sum()\n",
        "\n",
        "    # Plot the bar chart\n",
        "    monthly_totals.plot(kind='bar', figsize=(10, 6))\n",
        "\n",
        "    # Add title and labels\n",
        "    plt.title('Monthly Expenses')\n",
        "    plt.xlabel('Month')\n",
        "    plt.ylabel('Total Expenses ($)')\n",
        "\n",
        "    # Display the chart\n",
        "    plt.show()\n",
        "\n",
        "# Example usage\n",
        "show_monthly_expenses_bar_chart(\"expenses.csv\")\n"
      ],
      "metadata": {
        "colab": {
          "base_uri": "https://localhost:8080/",
          "height": 608
        },
        "id": "7yVIUuoPOTDr",
        "outputId": "c46da132-6b40-42d4-a7be-1c893f0e65b2"
      },
      "execution_count": 20,
      "outputs": [
        {
          "output_type": "display_data",
          "data": {
            "text/plain": [
              "<Figure size 1000x600 with 1 Axes>"
            ],
            "image/png": "[encoded data removed]"
          },
          "metadata": {}
        }
      ]
    },
    {
      "cell_type": "code",
      "source": [
        "\n",
        "\n",
        "def show_daily_expenses_line_graph(filename, selected_month):\n",
        "    # Load the CSV file\n",
        "    df = pd.read_csv(\"expenses.csv\")\n",
        "\n",
        "    # Convert 'Date' to datetime format\n",
        "    df['Date'] = pd.to_datetime(df['Date'], errors='coerce')\n",
        "    df['Amount'] = pd.to_numeric(df['Amount'], errors='coerce')  # Ensure Amount is numeric\n",
        "\n",
        "    # Drop rows with invalid data\n",
        "    df = df.dropna(subset=['Date', 'Amount'])\n",
        "\n",
        "    # Filter data for the selected month\n",
        "    df['Month'] = df['Date'].dt.to_period('M')\n",
        "    df['Day'] = df['Date'].dt.date  # Extract only the day part\n",
        "\n",
        "    # Select data for the specified month\n",
        "    selected_data = df[df['Month'] == selected_month]\n",
        "\n",
        "    # Group by Day and sum the expenses\n",
        "    daily_totals = selected_data.groupby('Day')['Amount'].sum()\n",
        "\n",
        "    # Plot the line graph\n",
        "    daily_totals.plot(kind='line', marker='o', figsize=(10, 6))\n",
        "\n",
        "    # Add title and labels\n",
        "    plt.title(f\"Daily Expenses for {selected_month}\")\n",
        "    plt.xlabel('Day')\n",
        "    plt.ylabel('Total Expenses ($)')\n",
        "\n",
        "    # Display the graph\n",
        "    plt.xticks(rotation=45)  # Rotate x-axis labels for better readability\n",
        "    plt.grid(True)\n",
        "    plt.show()\n",
        "\n",
        "# Example usage: Plot daily expenses for \"2024-01\"\n",
        "show_daily_expenses_line_graph(\"expenses.csv\", \"2024-12\")\n"
      ],
      "metadata": {
        "colab": {
          "base_uri": "https://localhost:8080/",
          "height": 604
        },
        "id": "MJYqjZHXOe1k",
        "outputId": "1171ab29-590a-4825-98e0-a327162c975a"
      },
      "execution_count": 21,
      "outputs": [
        {
          "output_type": "display_data",
          "data": {
            "text/plain": [
              "<Figure size 1000x600 with 1 Axes>"
            ],
            "image/png": "[encoded data removed]"
          },
          "metadata": {}
        }
      ]
    },
    {
      "cell_type": "code",
      "source": [
        "import pandas as pd\n",
        "\n",
        "def add_new_expense(filename):\n",
        "    # Get user input for the new expense\n",
        "    date = input(\"Enter the date (YYYY-MM-DD): \")\n",
        "    category = input(\"Enter the category (e.g., Food, Rent, etc.): \")\n",
        "    amount = float(input(\"Enter the amount: \"))\n",
        "    description = input(\"Enter the description (optional): \")\n",
        "\n",
        "    # Create a new DataFrame with the new expense data\n",
        "    new_expense = pd.DataFrame({\n",
        "        'Date': [date],\n",
        "        'Category': [category],\n",
        "        'Amount': [amount],\n",
        "        'Description': [description]\n",
        "    })\n",
        "\n",
        "    # Read the existing CSV file\n",
        "    try:\n",
        "        df = pd.read_csv(\"expenses.csv\")\n",
        "    except FileNotFoundError:\n",
        "        # If file doesn't exist, create a new DataFrame\n",
        "        df = pd.DataFrame(columns=['Date', 'Category', 'Amount', 'Description'])\n",
        "\n",
        "\n",
        "    # Save the updated data back to the CSV file\n",
        "    df.to_csv(\"expenses.csv\", index=False)\n",
        "\n",
        "    print(\"New expense entry added successfully!\")\n",
        "\n",
        "# Example usage\n",
        "add_new_expense(\"expenses.csv\")\n"
      ],
      "metadata": {
        "colab": {
          "base_uri": "https://localhost:8080/"
        },
        "id": "iAqClpZ5Pn3x",
        "outputId": "1a5c274a-ac89-4dae-d685-ef18d582ac83"
      },
      "execution_count": 25,
      "outputs": [
        {
          "output_type": "stream",
          "name": "stdout",
          "text": [
            "Enter the date (YYYY-MM-DD): 2024-11-07\n",
            "Enter the category (e.g., Food, Rent, etc.): Rent\n",
            "Enter the amount: 8000\n",
            "Enter the description (optional): Monthly rent for huse owner\n",
            "New expense entry added successfully!\n"
          ]
        }
      ]
    },
    {
      "cell_type": "code",
      "source": [
        "\n",
        "\n",
        "def delete_expense(filename):\n",
        "    # Load the CSV file into a DataFrame\n",
        "    df = pd.read_csv(\"expenses.csv\")\n",
        "\n",
        "    # Ask the user if they want to delete by entry ID or description\n",
        "    choice = input(\"Do you want to delete by entry ID (i) or description (d)? \").strip().lower()\n",
        "\n",
        "    if choice == 'i':\n",
        "        # Delete by entry ID (index)\n",
        "        entry_id = int(input(\"Enter the entry ID (index number) to delete: \"))\n",
        "        if entry_id in df.index:\n",
        "            df = df.drop(entry_id)\n",
        "            print(f\"Entry with ID {entry_id} deleted successfully!\")\n",
        "        else:\n",
        "            print(\"Invalid entry ID!\")\n",
        "    elif choice == 'd':\n",
        "        # Delete by description\n",
        "        description = input(\"Enter the description of the expense to delete: \").strip()\n",
        "        matching_rows = df[df['Description'].str.contains(description, case=False, na=False)]\n",
        "\n",
        "        if not matching_rows.empty:\n",
        "            print(\"Matching entries found:\")\n",
        "            print(matching_rows)\n",
        "            confirm = input(\"Do you want to delete these entries? (y/n): \").strip().lower()\n",
        "            if confirm == 'y':\n",
        "                df = df[~df['Description'].str.contains(description, case=False, na=False)]\n",
        "                print(\"Expenses deleted successfully!\")\n",
        "        else:\n",
        "            print(\"No matching entries found!\")\n",
        "\n",
        "    else:\n",
        "        print(\"Invalid option!\")\n",
        "\n",
        "    # Save the updated data back to the CSV file\n",
        "    df.to_csv(filename, index=False)\n",
        "\n",
        "# Example usage\n",
        "delete_expense(\"expenses.csv\")\n"
      ],
      "metadata": {
        "colab": {
          "base_uri": "https://localhost:8080/"
        },
        "id": "-qQGiWC0RGcu",
        "outputId": "10533f24-54ad-42b9-d472-567af23f4bde"
      },
      "execution_count": 26,
      "outputs": [
        {
          "output_type": "stream",
          "name": "stdout",
          "text": [
            "Do you want to delete by entry ID (i) or description (d)? d\n",
            "Enter the description of the expense to delete: Monthly rent for huse owner\n",
            "No matching entries found!\n"
          ]
        }
      ]
    },
    {
      "cell_type": "code",
      "source": [
        "import pandas as pd\n",
        "\n",
        "def generate_expense_report(filename):\n",
        "    # Read the CSV file into a DataFrame\n",
        "    df = pd.read_csv(\"expenses.csv\")\n",
        "\n",
        "    # Ensure 'Amount' is numeric and 'Date' is in datetime format\n",
        "    df['Amount'] = pd.to_numeric(df['Amount'], errors='coerce')\n",
        "    df['Date'] = pd.to_datetime(df['Date'], errors='coerce')\n",
        "\n",
        "    # Remove rows with invalid data\n",
        "    df = df.dropna(subset=['Amount', 'Date'])\n",
        "\n",
        "    # Calculate total expenses\n",
        "    total_expenses = df['Amount'].sum()\n",
        "\n",
        "    # Calculate category-wise expenses\n",
        "    category_expenses = df.groupby('Category')['Amount'].sum().sort_values(ascending=False)\n",
        "\n",
        "    # Display the results\n",
        "    print(\"Total Expenses: $\", total_expenses)\n",
        "    print(\"\\nCategory-wise Expenses:\")\n",
        "    print(category_expenses)\n",
        "\n",
        "    # Save the report to a text file\n",
        "    with open(\"expense_report.txt\", \"w\") as file:\n",
        "        file.write(f\"Total Expenses: ${total_expenses}\\n\\n\")\n",
        "        file.write(\"Category-wise Expenses:\\n\")\n",
        "        file.write(category_expenses.to_string())\n",
        "\n",
        "# Example usage\n",
        "generate_expense_report(\"expenses.csv\")\n"
      ],
      "metadata": {
        "colab": {
          "base_uri": "https://localhost:8080/"
        },
        "id": "OP6erTIfR6P0",
        "outputId": "0f9bd278-ab01-4238-c81b-23027c0c152a"
      },
      "execution_count": 27,
      "outputs": [
        {
          "output_type": "stream",
          "name": "stdout",
          "text": [
            "Total Expenses: $ 9050.0\n",
            "\n",
            "Category-wise Expenses:\n",
            "Category\n",
            "Rent    8300.0\n",
            "Food     750.0\n",
            "Name: Amount, dtype: float64\n"
          ]
        }
      ]
    }
  ]
}